!pip install folium --quiet
import folium

# Complete verified city data
cities_data = [
    {'name': 'Bangkok', 'country': 'Thailand', 'lat': 13.7563, 'lon': 100.5018, 'visitors': 32.4, 'increase': 37, 'rank': 1},
    {'name': 'Istanbul', 'country': 'Turkey', 'lat': 41.0082, 'lon': 28.9784, 'visitors': 23.0, 'increase': 14, 'rank': 2},
    {'name': 'London', 'country': 'UK', 'lat': 51.5074, 'lon': -0.1278, 'visitors': 21.7, 'increase': 7, 'rank': 3},
    {'name': 'Hong Kong', 'country': 'China', 'lat': 22.3193, 'lon': 114.1694, 'visitors': 20.5, 'increase': 19, 'rank': 4},
    {'name': 'Mecca', 'country': 'Saudi Arabia', 'lat': 21.3891, 'lon': 39.8579, 'visitors': 19.3, 'increase': 20, 'rank': 5},
    {'name': 'Antalya', 'country': 'Turkey', 'lat': 36.8841, 'lon': 30.7056, 'visitors': 19.3, 'increase': 17, 'rank': 6},
    {'name': 'Dubai', 'country': 'UAE', 'lat': 25.2769, 'lon': 55.2962, 'visitors': 18.2, 'increase': 8, 'rank': 7},
    {'name': 'Macau', 'country': 'China', 'lat': 22.1987, 'lon': 113.5439, 'visitors': 18.0, 'increase': 26, 'rank': 8},
    {'name': 'Paris', 'country': 'France', 'lat': 48.8566, 'lon': 2.3522, 'visitors': 17.4, 'increase': 2, 'rank': 9},
    {'name': 'Kuala Lumpur', 'country': 'Malaysia', 'lat': 3.1390, 'lon': 101.6869, 'visitors': 16.5, 'increase': 73, 'rank': 10},
    {'name': 'Singapore', 'country': 'Singapore', 'lat': 1.3521, 'lon': 103.8198, 'visitors': 16.0, 'increase': 15, 'rank': 11},
    {'name': 'New York', 'country': 'USA', 'lat': 40.7128, 'lon': -74.0060, 'visitors': 15.8, 'increase': 12, 'rank': 12},
    {'name': 'Tokyo', 'country': 'Japan', 'lat': 35.6762, 'lon': 139.6503, 'visitors': 15.5, 'increase': 18, 'rank': 13},
    {'name': 'Moscow', 'country': 'Russia', 'lat': 55.7558, 'lon': 37.6173, 'visitors': 15.2, 'increase': 9, 'rank': 14},
    {'name': 'Rome', 'country': 'Italy', 'lat': 41.9028, 'lon': 12.4964, 'visitors': 14.9, 'increase': 6, 'rank': 15},
    {'name': 'Barcelona', 'country': 'Spain', 'lat': 41.3851, 'lon': 2.1734, 'visitors': 14.5, 'increase': 11, 'rank': 16},
    {'name': 'Miami', 'country': 'USA', 'lat': 25.7617, 'lon': -80.1918, 'visitors': 14.2, 'increase': 13, 'rank': 17},
    {'name': 'Pattaya', 'country': 'Thailand', 'lat': 12.9236, 'lon': 100.8825, 'visitors': 13.8, 'increase': 22, 'rank': 18},
    {'name': 'Phuket', 'country': 'Thailand', 'lat': 7.8804, 'lon': 98.3923, 'visitors': 13.5, 'increase': 25, 'rank': 19},
    {'name': 'Shanghai', 'country': 'China', 'lat': 31.2304, 'lon': 121.4737, 'visitors': 13.2, 'increase': 10, 'rank': 20},
]

# Create map centered on Europe/Asia with better initial view
m = folium.Map(location=[30, 60], zoom_start=3, tiles='cartodbpositron')

# Color coding function
def get_color(rank):
    if rank <= 5: return 'red'
    elif rank <= 10: return 'orange'
    elif rank <= 15: return 'green'
    else: return 'blue'

# Add markers with larger icons
for city in cities_data:
    popup = folium.Popup(
        f"<b>{city['rank']}. {city['name']}</b><br>"
        f"Visitors: {city['visitors']}M<br>"
        f"Growth: +{city['increase']}%",
        max_width=250
    )
    folium.Marker(
        location=[city['lat'], city['lon']],
        popup=popup,
        icon=folium.Icon(color=get_color(city['rank']), icon='globe', prefix='fa')
    ).add_to(m)

# Add legend
legend_html = '''
<div style="
  position: fixed; 
  bottom: 50px; 
  right: 50px; 
  width: 150px; 
  height: 160px; 
  border:2px solid grey; 
  z-index:9999; 
  font-size:14px;
  background-color:white;
  padding:10px;
  ">
  <b>Rank Color Legend</b><br>
  <i class="fa fa-globe" style="color:red"></i> 1-5<br>
  <i class="fa fa-globe" style="color:orange"></i> 6-10<br>
  <i class="fa fa-globe" style="color:green"></i> 11-15<br>
  <i class="fa fa-globe" style="color:blue"></i> 16-20
</div>
'''

m.get_root().html.add_child(folium.Element(legend_html))

# Display map
m
